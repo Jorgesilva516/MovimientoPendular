{
 "cells": [
  {
   "cell_type": "markdown",
   "id": "5b471ef4-d282-48b6-b882-8db43bde95f9",
   "metadata": {},
   "source": [
    "## CÓDIGOS DEL MOVIMIENTO PENDULAR"
   ]
  },
  {
   "cell_type": "markdown",
   "id": "7cb63df7-d9a0-43a5-a499-078b30a0b8e6",
   "metadata": {},
   "source": [
    "Primero se determinó hasta que ángulos es válida la aproximación de pequeñas amplitudes. Esto es\n",
    "sen θ ≈ θ, con un error de menos de un 3 %."
   ]
  },
  {
   "cell_type": "markdown",
   "id": "d544c82d-906f-4117-8293-5feb0cae93ff",
   "metadata": {},
   "source": [
    "Se utilizó la fórmula de error porcentual:\n",
    "\n",
    "$ \\text{error}=\\frac{|aprox-real|}{real}x100               $\n",
    "\n",
    "donde el valor real es sen θ y el valor aproximado es θ"
   ]
  },
  {
   "cell_type": "code",
   "execution_count": 13,
   "id": "dc9399eb-828a-45a2-a03c-670a15e6e3ca",
   "metadata": {},
   "outputs": [],
   "source": [
    "import numpy as np\n",
    "import pandas as pd\n",
    "import matplotlib.pyplot as plt"
   ]
  },
  {
   "cell_type": "code",
   "execution_count": 14,
   "id": "e2647292-b2ee-4be1-827b-64fd0a0d6650",
   "metadata": {},
   "outputs": [
    {
     "name": "stdout",
     "output_type": "stream",
     "text": [
      "Ángulos: [0.1  0.11 0.12 0.13 0.14 0.15 0.16 0.17 0.18 0.19 0.2  0.21 0.22 0.23\n",
      " 0.24 0.25 0.26 0.27 0.28 0.29 0.3  0.31 0.32 0.33 0.34 0.35 0.36 0.37\n",
      " 0.38 0.39 0.4  0.41 0.42 0.43 0.44 0.45 0.46 0.47 0.48 0.49 0.5  0.51\n",
      " 0.52 0.53 0.54 0.55 0.56 0.57 0.58 0.59 0.6  0.61 0.62 0.63 0.64 0.65\n",
      " 0.66 0.67 0.68 0.69 0.7  0.71 0.72 0.73 0.74 0.75 0.76 0.77 0.78 0.79\n",
      " 0.8  0.81 0.82 0.83 0.84 0.85 0.86 0.87 0.88 0.89 0.9  0.91 0.92 0.93\n",
      " 0.94 0.95 0.96 0.97 0.98 0.99 1.   1.01 1.02 1.03 1.04 1.05 1.06 1.07\n",
      " 1.08 1.09 1.1  1.11 1.12 1.13 1.14 1.15 1.16 1.17 1.18 1.19 1.2  1.21\n",
      " 1.22 1.23 1.24 1.25 1.26 1.27 1.28 1.29 1.3  1.31 1.32 1.33 1.34 1.35\n",
      " 1.36 1.37 1.38 1.39 1.4  1.41 1.42 1.43 1.44 1.45 1.46 1.47 1.48 1.49\n",
      " 1.5  1.51 1.52 1.53 1.54 1.55 1.56 1.57 1.58 1.59 1.6  1.61 1.62 1.63\n",
      " 1.64 1.65 1.66 1.67 1.68 1.69 1.7  1.71 1.72 1.73 1.74 1.75 1.76 1.77\n",
      " 1.78 1.79 1.8  1.81 1.82 1.83 1.84 1.85 1.86 1.87 1.88 1.89 1.9  1.91\n",
      " 1.92 1.93 1.94 1.95 1.96 1.97 1.98 1.99 2.   2.01 2.02 2.03 2.04 2.05\n",
      " 2.06 2.07 2.08 2.09 2.1  2.11 2.12 2.13 2.14 2.15 2.16 2.17 2.18 2.19\n",
      " 2.2  2.21 2.22 2.23 2.24 2.25 2.26 2.27 2.28 2.29 2.3  2.31 2.32 2.33\n",
      " 2.34 2.35 2.36 2.37 2.38 2.39 2.4  2.41 2.42 2.43 2.44 2.45 2.46 2.47\n",
      " 2.48 2.49 2.5  2.51 2.52 2.53 2.54 2.55 2.56 2.57 2.58 2.59 2.6  2.61\n",
      " 2.62 2.63 2.64 2.65 2.66 2.67 2.68 2.69 2.7  2.71 2.72 2.73 2.74 2.75\n",
      " 2.76 2.77 2.78 2.79 2.8  2.81 2.82 2.83 2.84 2.85 2.86 2.87 2.88 2.89\n",
      " 2.9  2.91 2.92 2.93 2.94 2.95 2.96 2.97 2.98 2.99]\n",
      "Error [1.66861316e-01 2.01951716e-01 2.40403813e-01 2.82223011e-01\n",
      " 3.27415191e-01 3.75986716e-01 4.27944427e-01 4.83295650e-01\n",
      " 5.42048197e-01 6.04210368e-01 6.69790953e-01 7.38799239e-01\n",
      " 8.11245006e-01 8.87138536e-01 9.66490614e-01 1.04931253e+00\n",
      " 1.13561609e+00 1.22541360e+00 1.31871791e+00 1.41554237e+00\n",
      " 1.51590085e+00 1.61980779e+00 1.72727812e+00 1.83832735e+00\n",
      " 1.95297150e+00 2.07122717e+00 2.19311150e+00 2.31864221e+00\n",
      " 2.44783757e+00 2.58071643e+00 2.71729822e+00 2.85760298e+00\n",
      " 3.00165130e+00 3.14946441e+00 3.30106414e+00 3.45647292e+00\n",
      " 3.61571381e+00 3.77881053e+00 3.94578739e+00 4.11666938e+00\n",
      " 4.29148215e+00 4.47025199e+00 4.65300591e+00 4.83977154e+00\n",
      " 5.03057727e+00 5.22545216e+00 5.42442597e+00 5.62752923e+00\n",
      " 5.83479317e+00 6.04624977e+00 6.26193180e+00 6.48187277e+00\n",
      " 6.70610698e+00 6.93466954e+00 7.16759635e+00 7.40492414e+00\n",
      " 7.64669049e+00 7.89293382e+00 8.14369340e+00 8.39900940e+00\n",
      " 8.65892289e+00 8.92347583e+00 9.19271111e+00 9.46667260e+00\n",
      " 9.74540508e+00 1.00289543e+01 1.03173672e+01 1.06106913e+01\n",
      " 1.09089757e+01 1.12122701e+01 1.15206256e+01 1.18340941e+01\n",
      " 1.21527289e+01 1.24765842e+01 1.28057156e+01 1.31401796e+01\n",
      " 1.34800343e+01 1.38253385e+01 1.41761528e+01 1.45325387e+01\n",
      " 1.48945592e+01 1.52622786e+01 1.56357625e+01 1.60150780e+01\n",
      " 1.64002936e+01 1.67914792e+01 1.71887062e+01 1.75920475e+01\n",
      " 1.80015777e+01 1.84173728e+01 1.88395106e+01 1.92680703e+01\n",
      " 1.97031331e+01 2.01447818e+01 2.05931009e+01 2.10481768e+01\n",
      " 2.15100978e+01 2.19789540e+01 2.24548376e+01 2.29378425e+01\n",
      " 2.34280650e+01 2.39256033e+01 2.44305577e+01 2.49430308e+01\n",
      " 2.54631273e+01 2.59909544e+01 2.65266216e+01 2.70702406e+01\n",
      " 2.76219259e+01 2.81817943e+01 2.87499653e+01 2.93265611e+01\n",
      " 2.99117066e+01 3.05055293e+01 3.11081601e+01 3.17197323e+01\n",
      " 3.23403825e+01 3.29702505e+01 3.36094790e+01 3.42582143e+01\n",
      " 3.49166059e+01 3.55848068e+01 3.62629735e+01 3.69512662e+01\n",
      " 3.76498488e+01 3.83588892e+01 3.90785592e+01 3.98090345e+01\n",
      " 4.05504953e+01 4.13031258e+01 4.20671149e+01 4.28426558e+01\n",
      " 4.36299467e+01 4.44291903e+01 4.52405946e+01 4.60643724e+01\n",
      " 4.69007420e+01 4.77499269e+01 4.86121566e+01 4.94876658e+01\n",
      " 5.03766956e+01 5.12794930e+01 5.21963113e+01 5.31274104e+01\n",
      " 5.40730567e+01 5.50335238e+01 5.60090922e+01 5.70000498e+01\n",
      " 5.80066921e+01 5.90293226e+01 6.00682526e+01 6.11238020e+01\n",
      " 6.21962991e+01 6.32860814e+01 6.43934953e+01 6.55188970e+01\n",
      " 6.66626524e+01 6.78251375e+01 6.90067390e+01 7.02078543e+01\n",
      " 7.14288923e+01 7.26702734e+01 7.39324300e+01 7.52158072e+01\n",
      " 7.65208629e+01 7.78480684e+01 7.91979091e+01 8.05708844e+01\n",
      " 8.19675092e+01 8.33883133e+01 8.48338429e+01 8.63046608e+01\n",
      " 8.78013472e+01 8.93245001e+01 9.08747361e+01 9.24526914e+01\n",
      " 9.40590222e+01 9.56944056e+01 9.73595405e+01 9.90551484e+01\n",
      " 1.00781974e+02 1.02540788e+02 1.04332384e+02 1.06157585e+02\n",
      " 1.08017239e+02 1.09912224e+02 1.11843449e+02 1.13811854e+02\n",
      " 1.15818409e+02 1.17864122e+02 1.19950034e+02 1.22077224e+02\n",
      " 1.24246810e+02 1.26459951e+02 1.28717846e+02 1.31021742e+02\n",
      " 1.33372929e+02 1.35772748e+02 1.38222590e+02 1.40723899e+02\n",
      " 1.43278176e+02 1.45886978e+02 1.48551927e+02 1.51274706e+02\n",
      " 1.54057068e+02 1.56900837e+02 1.59807911e+02 1.62780266e+02\n",
      " 1.65819962e+02 1.68929145e+02 1.72110054e+02 1.75365023e+02\n",
      " 1.78696489e+02 1.82106995e+02 1.85599199e+02 1.89175878e+02\n",
      " 1.92839936e+02 1.96594409e+02 2.00442477e+02 2.04387469e+02\n",
      " 2.08432872e+02 2.12582341e+02 2.16839712e+02 2.21209009e+02\n",
      " 2.25694456e+02 2.30300494e+02 2.35031790e+02 2.39893255e+02\n",
      " 2.44890056e+02 2.50027639e+02 2.55311743e+02 2.60748420e+02\n",
      " 2.66344061e+02 2.72105415e+02 2.78039618e+02 2.84154217e+02\n",
      " 2.90457207e+02 2.96957056e+02 3.03662746e+02 3.10583813e+02\n",
      " 3.17730386e+02 3.25113239e+02 3.32743838e+02 3.40634400e+02\n",
      " 3.48797957e+02 3.57248422e+02 3.66000667e+02 3.75070605e+02\n",
      " 3.84475283e+02 3.94232986e+02 4.04363352e+02 4.14887496e+02\n",
      " 4.25828155e+02 4.37209843e+02 4.49059033e+02 4.61404352e+02\n",
      " 4.74276806e+02 4.87710033e+02 5.01740587e+02 5.16408263e+02\n",
      " 5.31756460e+02 5.47832602e+02 5.64688616e+02 5.82381474e+02\n",
      " 6.00973829e+02 6.20534730e+02 6.41140472e+02 6.62875562e+02\n",
      " 6.85833857e+02 7.10119896e+02 7.35850462e+02 7.63156426e+02\n",
      " 7.92184941e+02 8.23102055e+02 8.56095839e+02 8.91380167e+02\n",
      " 9.29199299e+02 9.69833469e+02 1.01360577e+03 1.06089066e+03\n",
      " 1.11212461e+03 1.16781947e+03 1.22857949e+03 1.29512317e+03\n",
      " 1.36831155e+03 1.44918548e+03 1.53901504e+03 1.63936644e+03\n",
      " 1.75219353e+03 1.87996576e+03]\n",
      "Valores menores que 3: [ True  True  True  True  True  True  True  True  True  True  True  True\n",
      "  True  True  True  True  True  True  True  True  True  True  True  True\n",
      "  True  True  True  True  True  True  True  True False False False False\n",
      " False False False False False False False False False False False False\n",
      " False False False False False False False False False False False False\n",
      " False False False False False False False False False False False False\n",
      " False False False False False False False False False False False False\n",
      " False False False False False False False False False False False False\n",
      " False False False False False False False False False False False False\n",
      " False False False False False False False False False False False False\n",
      " False False False False False False False False False False False False\n",
      " False False False False False False False False False False False False\n",
      " False False False False False False False False False False False False\n",
      " False False False False False False False False False False False False\n",
      " False False False False False False False False False False False False\n",
      " False False False False False False False False False False False False\n",
      " False False False False False False False False False False False False\n",
      " False False False False False False False False False False False False\n",
      " False False False False False False False False False False False False\n",
      " False False False False False False False False False False False False\n",
      " False False False False False False False False False False False False\n",
      " False False False False False False False False False False False False\n",
      " False False False False False False False False False False False False\n",
      " False False False False False False False False False False False False\n",
      " False False]\n"
     ]
    }
   ],
   "source": [
    "theta=np.arange(0.1,3, 0.01) #lista de ángulos en radianes#\n",
    " \n",
    "e=(np.abs(theta-np.sin(theta))/np.sin(theta))*100 #cálculo#\n",
    "print('Ángulos:', theta)\n",
    "print('Error', e)\n",
    "print('Valores menores que 3:', e<3) #Se imprimen los valores que cumplen la condición como true#\n",
    "\n"
   ]
  },
  {
   "cell_type": "markdown",
   "id": "ac6d7659-fad3-4fde-a45f-d768a32857aa",
   "metadata": {},
   "source": [
    "De lo anterior se deduce que los ángulos pequeños son los menores a 0.42 radianes, o menores a 24 grados"
   ]
  },
  {
   "cell_type": "markdown",
   "id": "49392002-88af-450c-98be-2b53ace1177e",
   "metadata": {},
   "source": [
    "Para la estimación de la gravedad usando ángulos pequeños se usó la siguiente fórmula:\n",
    "\n",
    "$ \\text{T} = 2\\pi\\sqrt{\\frac{L}{g}} $\n",
    "\n",
    "Donde se despejó g\n",
    "\n",
    "$\\text{g} =\\frac{4\\pi^2 L}{T^2} $"
   ]
  },
  {
   "cell_type": "markdown",
   "id": "657e53e6-9fe8-474d-a2ce-bb3652895772",
   "metadata": {},
   "source": [
    "## Amplitudes Pequeñas"
   ]
  },
  {
   "cell_type": "markdown",
   "id": "4250bd04-021e-445b-be7b-466ab176b45c",
   "metadata": {},
   "source": [
    "## Longitud 1 metro"
   ]
  },
  {
   "cell_type": "markdown",
   "id": "7e83bdfa-4795-4fbd-81b2-a565544d5546",
   "metadata": {},
   "source": [
    "Se tomaron los datos del tiempo total del movimiento de cada uno de los 10 experimentos y se les aplicó la fórmula a cada uno de los valores de t para estimar las gravedades de cada movimiento, posteriormente se calcularon los promedios de la gravedad y periodo."
   ]
  },
  {
   "cell_type": "code",
   "execution_count": 100,
   "id": "bed8b713-9bc3-46c9-9e9a-a59c74bb0394",
   "metadata": {},
   "outputs": [
    {
     "name": "stdout",
     "output_type": "stream",
     "text": [
      "El promedio de la gravedad de los movimientos es: 16.518286674058164\n",
      "El promedio del periodo de los movimientos es: 1.7986999999999997\n"
     ]
    }
   ],
   "source": [
    "#---300g---#\n",
    "data_1m300p = pd.read_csv('Datos/1m/300/TiemposPequeños1m300.csv', sep=\",\") #Se lee la tabla#\n",
    "\n",
    "data_1m300p['t'] = data_1m300p['t'].astype(float, errors = 'raise')\n",
    "\n",
    "data_g_1m300p = (4*np.square(np.pi)*1)/np.square(data_1m300p['t'])        #Se aplica la fórmula#\n",
    "\n",
    "data_g_1m300p.to_csv('gravedad_1m_300.csv', index=False)                  #Se guarda en una tabla#\n",
    "\n",
    "promedio_g_1m300p=data_g_1m300p.mean()                                   #promedios#\n",
    "\n",
    "promedio_t_1m300p=data_1m300p['t'].mean()\n",
    "\n",
    "print(\"El promedio de la gravedad de los movimientos es:\", promedio_g_1m300p)\n",
    "print(\"El promedio del periodo de los movimientos es:\", promedio_t_1m300p)\n"
   ]
  },
  {
   "cell_type": "code",
   "execution_count": 101,
   "id": "ce05e8c6-2628-43d1-8f3e-0708bc847d53",
   "metadata": {},
   "outputs": [
    {
     "name": "stdout",
     "output_type": "stream",
     "text": [
      "El promedio de la gravedad de los movimientos es: 8.322927351716588\n",
      "El promedio del periodo de los movimientos es: 2.2994999999999997\n"
     ]
    }
   ],
   "source": [
    "#---600g---#\n",
    "data_1m600p = pd.read_csv('Datos/1m/600/TiemposPequeños600.csv', sep=\",\")\n",
    "\n",
    "data_1m600p['t'] = data_1m600p['t'].astype(float, errors = 'raise')\n",
    "\n",
    "data_g_1m600p = (4*np.square(np.pi)*1)/np.square(data_1m600p['t'])\n",
    "\n",
    "data_g_1m600p.to_csv('gravedad_1m_600.csv', index=False) \n",
    "\n",
    "promedio_g_1m600p=data_g_1m600p.mean()\n",
    "\n",
    "promedio_t_1m600p=data_1m600p['t'].mean()\n",
    "\n",
    "print(\"El promedio de la gravedad de los movimientos es:\", promedio_g_1m600p)\n",
    "print(\"El promedio del periodo de los movimientos es:\", promedio_t_1m600p)\n"
   ]
  },
  {
   "cell_type": "markdown",
   "id": "e0db386b-4943-49b9-984c-abfb55dc00dc",
   "metadata": {},
   "source": [
    "## Valores teóricos\n",
    "Se creó un programa que simula el movimiento con las mismas condiciones que los experimentos\n"
   ]
  },
  {
   "cell_type": "code",
   "execution_count": 33,
   "id": "b8109076-236b-4baa-9d96-b8d7b1f4cc27",
   "metadata": {},
   "outputs": [
    {
     "name": "stdout",
     "output_type": "stream",
     "text": [
      "El valor teórico del periodo para 1 metro es: 2.0060666807106475\n"
     ]
    }
   ],
   "source": [
    "L1=1\n",
    "g=9.81\n",
    "\n",
    "T1=2*np.pi*(np.sqrt(L1/g))\n",
    "\n",
    "print(\"El valor teórico del periodo para 1 metro es:\", T1)"
   ]
  },
  {
   "cell_type": "markdown",
   "id": "14cf8b9f-1574-4669-be1a-f576e4881eed",
   "metadata": {},
   "source": [
    "## Longitud 2 metros"
   ]
  },
  {
   "cell_type": "code",
   "execution_count": 102,
   "id": "f1a565e0-43aa-4020-af6e-61ce17ecd238",
   "metadata": {},
   "outputs": [
    {
     "name": "stdout",
     "output_type": "stream",
     "text": [
      "El promedio de la gravedad de los movimientos es: 6.048798309996594\n",
      "El promedio del periodo de los movimientos es: 2.6195000000000004\n"
     ]
    }
   ],
   "source": [
    "#---300g---#\n",
    "data_2m300p = pd.read_csv('Datos/2m/300/TiemposPequeños2m300.csv', sep=\",\")\n",
    "\n",
    "data_2m300p['t'] = data_2m300p['t'].astype(float, errors = 'raise')\n",
    "\n",
    "data_g_2m300p = (4*np.square(np.pi)*1)/np.square(data_2m300p['t'])\n",
    "\n",
    "data_g_2m300p.to_csv('gravedad_2m_300.csv', index=False)\n",
    "\n",
    "promedio_g_2m300p=data_g_2m300p.mean()\n",
    "promedio_t_2m300p=data_2m300p['t'].mean()\n",
    "\n",
    "print(\"El promedio de la gravedad de los movimientos es:\", promedio_g_2m300p)\n",
    "print(\"El promedio del periodo de los movimientos es:\", promedio_t_2m300p)"
   ]
  },
  {
   "cell_type": "code",
   "execution_count": 103,
   "id": "cc00566d-8bad-4ee8-be8c-779b62242d83",
   "metadata": {},
   "outputs": [
    {
     "name": "stdout",
     "output_type": "stream",
     "text": [
      "El promedio de la gravedad de los movimientos es: 6.444146398613761\n",
      "El promedio del periodo de los movimientos es: 2.4819\n"
     ]
    }
   ],
   "source": [
    "#---600g---#\n",
    "data_2m600p = pd.read_csv('Datos/2m/600/TiemposPequeños2m600.csv', sep=\",\")\n",
    "\n",
    "data_2m600p['t'] = data_2m600p['t'].astype(float, errors = 'raise')\n",
    "\n",
    "data_g_2m600p = (4*np.square(np.pi)*1)/np.square(data_2m600p['t'])\n",
    "\n",
    "data_g_2m600p.to_csv('gravedad_2m_600.csv', index=False)\n",
    "\n",
    "promedio_g_2m600p=data_g_2m600p.mean()\n",
    "promedio_t_2m600p=data_2m600p['t'].mean()\n",
    "\n",
    "print(\"El promedio de la gravedad de los movimientos es:\", promedio_g_2m600p)\n",
    "print(\"El promedio del periodo de los movimientos es:\", promedio_t_2m600p)\n"
   ]
  },
  {
   "cell_type": "markdown",
   "id": "7d15b323-b1e7-4bae-8127-f88dd43fa307",
   "metadata": {},
   "source": [
    "## Valores teóricos\n",
    "Se creó un programa que simula el movimiento con las mismas condiciones que los experimentos"
   ]
  },
  {
   "cell_type": "code",
   "execution_count": 34,
   "id": "3b66342c-537a-4800-b451-e05339f0af6a",
   "metadata": {},
   "outputs": [
    {
     "name": "stdout",
     "output_type": "stream",
     "text": [
      "El valor teórico del periodo para 2 metros es: 2.837006706885775\n"
     ]
    }
   ],
   "source": [
    "L2=2\n",
    "g=9.81\n",
    "\n",
    "T2=2*np.pi*(np.sqrt(L2/g))\n",
    "\n",
    "print(\"El valor teórico del periodo para 2 metros es:\", T2)"
   ]
  },
  {
   "cell_type": "markdown",
   "id": "2a48d4a5-5f92-4063-aa88-efe3cc890b46",
   "metadata": {},
   "source": [
    "## Amplitudes grandes"
   ]
  },
  {
   "cell_type": "markdown",
   "id": "08edb4e2-b775-4f4d-a0f5-ec8b0a91799c",
   "metadata": {},
   "source": [
    "La integración de la ecuación del movimiento, sin la aproximación de pequeñas oscilaciones, es considerablemente más complicada e involucra integrales elípticas de primera especie:\n",
    "\n",
    "$\\text{T(θ)} =T_{0}[\\sum_{n=0}^{∞} (\\frac{(2n)!}{2^{2n}(n!)^2})^2 sin^{2n}(\\frac{θ}{2}) ] $ \n",
    "\n",
    "Resolver esa sumatoria conlleva recursos computacionales grandes, así que se optó por aproximarla a su primer término.\n",
    "\n",
    "$\\text{T(θ)} =T_{0}[1+(\\frac{θ^2}{16})]  $ "
   ]
  },
  {
   "cell_type": "markdown",
   "id": "fb04caf1-8e10-4701-aab2-d09c3f9c5e4f",
   "metadata": {},
   "source": [
    "## Longitud 1 metro"
   ]
  },
  {
   "cell_type": "markdown",
   "id": "27ca94f3-26c7-46dc-976b-8efcbf8ee279",
   "metadata": {},
   "source": [
    "Los datos de las tablas de tracker son los datos experimentales, luego se calcularon los datos teóricos usando la fórmula $\\text{T(θ)} =T_{0}[1+(\\frac{θ^2}{16})]  $ \n",
    "\n",
    "En la sección anterior ya se calcularon los periodos teóricos usando la fórmula $ \\text{T} = 2\\pi\\sqrt{\\frac{L}{g}} $ y quedaron almacenados en las variables T1 y T2\n",
    "\n",
    "Por último se calcularon los periodos $\\text{T(θ)} =T_{0}[1+(\\frac{θ^2}{16})]  $\n",
    "\n"
   ]
  },
  {
   "cell_type": "code",
   "execution_count": 48,
   "id": "4e1b6df5-4da5-4bfd-bde5-321e5c7de113",
   "metadata": {},
   "outputs": [],
   "source": [
    "#---300g---#\n",
    "\n",
    "amplitudes_grandes_1m_300 = pd.read_csv('Datos/1m/300/TiemposGrandes1m300.csv', sep=\",\")\n",
    "\n",
    "amplitudes_grandes_1m_300['grados'] = data_1m300g['grados'].astype(float, errors = 'raise')\n"
   ]
  },
  {
   "cell_type": "code",
   "execution_count": 57,
   "id": "a02b3d98-3753-4cee-affd-247d7cd6449d",
   "metadata": {},
   "outputs": [],
   "source": [
    "j3=T1*(1+np.square(amplitudes_grandes_1m_300['grados'])/16)\n",
    "\n",
    "amplitudes_grandes_1m_300['t'] = j3\n",
    "\n",
    "amplitudes_grandes_1m_300.to_csv('T_teórico_1m_300.csv', index=False)\n"
   ]
  },
  {
   "cell_type": "code",
   "execution_count": 60,
   "id": "4e831282-be10-4d46-b582-5cea15d5754a",
   "metadata": {},
   "outputs": [],
   "source": [
    "#---600g---#\n",
    "\n",
    "amplitudes_grandes_1m_600 = pd.read_csv('Datos/1m/600/TiemposGrandes600.csv', sep=\",\")\n",
    "\n",
    "amplitudes_grandes_1m_600['grados'] = amplitudes_grandes_1m_600['grados'].astype(float, errors = 'raise')"
   ]
  },
  {
   "cell_type": "code",
   "execution_count": 62,
   "id": "9825116c-cd6d-490f-98a5-8d87e603f1d7",
   "metadata": {},
   "outputs": [],
   "source": [
    "j6=T1*(1+np.square(amplitudes_grandes_1m_600['grados'])/16)\n",
    "\n",
    "amplitudes_grandes_1m_600['t'] = j6\n",
    "\n",
    "amplitudes_grandes_1m_600.to_csv('T_teórico_1m_600.csv', index=False)"
   ]
  },
  {
   "cell_type": "markdown",
   "id": "b98dade8-3035-4acb-be07-c589b835224c",
   "metadata": {},
   "source": [
    "## Longitud 2 metros"
   ]
  },
  {
   "cell_type": "markdown",
   "id": "0077c9c7-58ef-4386-a826-2b521a361895",
   "metadata": {},
   "source": [
    "Se procedió de la misma forma para la longitud de 2 metros"
   ]
  },
  {
   "cell_type": "code",
   "execution_count": 63,
   "id": "804581d7-23d9-411b-a3e3-6cf50ebe7ffd",
   "metadata": {},
   "outputs": [],
   "source": [
    "#---300g---#\n",
    "\n",
    "amplitudes_grandes_2m_300 = pd.read_csv('Datos/2m/300/TiemposGrandes2m300.csv', sep=\",\")\n",
    "\n",
    "amplitudes_grandes_2m_300['grados'] = amplitudes_grandes_2m_300['grados'].astype(float, errors = 'raise')\n"
   ]
  },
  {
   "cell_type": "code",
   "execution_count": 64,
   "id": "02e7c6c2-845b-49ca-aada-5a185a6e927c",
   "metadata": {},
   "outputs": [],
   "source": [
    "j4=T1*(1+np.square(amplitudes_grandes_2m_300['grados'])/16)\n",
    "\n",
    "amplitudes_grandes_2m_300['t'] = j3\n",
    "\n",
    "amplitudes_grandes_2m_300.to_csv('T_teórico_2m_300.csv', index=False)\n"
   ]
  },
  {
   "cell_type": "code",
   "execution_count": 65,
   "id": "c5a4002e-883b-417c-8030-39e49da692ad",
   "metadata": {},
   "outputs": [],
   "source": [
    "#---600g---#\n",
    "\n",
    "amplitudes_grandes_2m_600 = pd.read_csv('Datos/2m/600/TiemposGrandes2m600.csv', sep=\",\")\n",
    "\n",
    "amplitudes_grandes_2m_600['grados'] = amplitudes_grandes_2m_600['grados'].astype(float, errors = 'raise')\n"
   ]
  },
  {
   "cell_type": "code",
   "execution_count": 66,
   "id": "1a91522d-38f6-4191-b051-201ca1062aa8",
   "metadata": {},
   "outputs": [],
   "source": [
    "j5=T1*(1+np.square(amplitudes_grandes_2m_600['grados'])/16)\n",
    "\n",
    "amplitudes_grandes_2m_600['t'] = j5\n",
    "\n",
    "amplitudes_grandes_2m_600.to_csv('T_teórico_2m_600.csv', index=False)"
   ]
  },
  {
   "cell_type": "markdown",
   "id": "986f9d80-1cb7-4209-bc67-61821ddee3ae",
   "metadata": {},
   "source": [
    "## ERRORES"
   ]
  },
  {
   "cell_type": "markdown",
   "id": "511c5746-f32e-4345-b360-c020128d9db6",
   "metadata": {},
   "source": [
    "   ## Amplitudes Pequeñas"
   ]
  },
  {
   "cell_type": "markdown",
   "id": "d8a295bb-c803-4a82-976b-a5024628c169",
   "metadata": {},
   "source": [
    "## 1 metro"
   ]
  },
  {
   "cell_type": "markdown",
   "id": "8f4e0ec3-3083-4bb1-8e0a-fd15f7316135",
   "metadata": {},
   "source": [
    "Se utilizó la fórmula de error porcentual para medir el error de la gravedad y periodo experimental con respecto al valor teórico calculado:\n",
    "\n",
    "$ \\text{error}=\\frac{|exp-teo|}{teo}x100               $\n"
   ]
  },
  {
   "cell_type": "code",
   "execution_count": 72,
   "id": "238ace8c-ee75-4279-985c-bc43c5e839ae",
   "metadata": {},
   "outputs": [
    {
     "name": "stdout",
     "output_type": "stream",
     "text": [
      "El error de la gravedad en el péndulo de 1m de longitud y masa de 300g es: 68.3821271565562\n",
      "El error del periodo en el péndulo de 1m de longitud y masa de 300g es: 10.336978461612667\n"
     ]
    }
   ],
   "source": [
    "#---300g---#\n",
    "\n",
    "error_g_300p=(np.abs(promedio_g_1m300p-9.81))/9.81 *100\n",
    "error_t_300p=(np.abs(promedio_t_1m300p-T1))/T1 *100\n",
    "\n",
    "print(\"El error de la gravedad en el péndulo de 1m de longitud y masa de 300g es:\",error_g_300p )\n",
    "print(\"El error del periodo en el péndulo de 1m de longitud y masa de 300g es:\",error_t_300p )"
   ]
  },
  {
   "cell_type": "code",
   "execution_count": 82,
   "id": "ee42045b-e746-4a68-9e4a-80037bff2c8d",
   "metadata": {},
   "outputs": [
    {
     "name": "stdout",
     "output_type": "stream",
     "text": [
      "El error de la gravedad en el péndulo de 1m de longitud y masa de 300g es: 15.158742592083712\n",
      "El error del periodo en el péndulo de 1m de longitud y masa de 300g es: 14.627296396020276\n"
     ]
    }
   ],
   "source": [
    "#---600g---#\n",
    "\n",
    "error_g_600p=(np.abs(promedio_g_1m600p-9.81))/9.81 *100\n",
    "error_t_600p=(np.abs(promedio_t_1m600p-T1))/T1 *100\n",
    "\n",
    "print(\"El error de la gravedad en el péndulo de 1m de longitud y masa de 300g es:\",error_g_600p )\n",
    "print(\"El error del periodo en el péndulo de 1m de longitud y masa de 300g es:\",error_t_600p )"
   ]
  },
  {
   "cell_type": "markdown",
   "id": "a9eaf1f8-d05e-42be-a87b-7b25d10ef3dd",
   "metadata": {},
   "source": [
    "## 2 metros"
   ]
  },
  {
   "cell_type": "markdown",
   "id": "dee6a506-3667-48b1-bac9-0de2c18aef58",
   "metadata": {},
   "source": [
    "De la misma forma se procedió a calcular los errores con el caso de 2 metros de longitud"
   ]
  },
  {
   "cell_type": "code",
   "execution_count": 81,
   "id": "8e4e4c79-d3a4-4b58-89ea-c1702fa13000",
   "metadata": {},
   "outputs": [
    {
     "name": "stdout",
     "output_type": "stream",
     "text": [
      "El error de la gravedad en el péndulo de 2m de longitud y masa de 300g es: 38.340486136630034\n",
      "El error del periodo en el péndulo de 2m de longitud y masa de 300g es: 7.6667674545096505\n"
     ]
    }
   ],
   "source": [
    "#---300g---#\n",
    "\n",
    "error_g_300p2=(np.abs(promedio_g_2m300p-9.81))/9.81 *100\n",
    "error_t_300p2=(np.abs(promedio_t_2m300p-T2))/T2 *100\n",
    "\n",
    "print(\"El error de la gravedad en el péndulo de 2m de longitud y masa de 300g es:\",error_g_300p2 )\n",
    "print(\"El error del periodo en el péndulo de 2m de longitud y masa de 300g es:\",error_t_300p2 )"
   ]
  },
  {
   "cell_type": "code",
   "execution_count": 83,
   "id": "7569ac0d-fadd-4631-8689-0fe82468f3e7",
   "metadata": {},
   "outputs": [
    {
     "name": "stdout",
     "output_type": "stream",
     "text": [
      "El error de la gravedad en el péndulo de 2m de longitud y masa de 300g es: 34.31043426489541\n",
      "El error del periodo en el péndulo de 2m de longitud y masa de 300g es: 12.51694985506682\n"
     ]
    }
   ],
   "source": [
    "#---600g---#\n",
    "\n",
    "error_g_600p2=(np.abs(promedio_g_2m600p-9.81))/9.81 *100\n",
    "error_t_600p2=(np.abs(promedio_t_2m600p-T2))/T2 *100\n",
    "\n",
    "print(\"El error de la gravedad en el péndulo de 2m de longitud y masa de 300g es:\",error_g_600p2 )\n",
    "print(\"El error del periodo en el péndulo de 2m de longitud y masa de 300g es:\",error_t_600p2 )"
   ]
  },
  {
   "cell_type": "markdown",
   "id": "628f3bce-0129-43bc-8bbd-70a14328cecb",
   "metadata": {},
   "source": [
    "## Amplitudes Grandes"
   ]
  },
  {
   "cell_type": "markdown",
   "id": "ae28da3e-543d-432c-b479-182c3bd75f63",
   "metadata": {},
   "source": [
    "Para el caso de las amplitudes grande se compararon los datos teóricos y experimentales de periodo usando la fórmula de error porcentual."
   ]
  },
  {
   "cell_type": "markdown",
   "id": "18cd4060-59c7-4b25-8756-c030a0d23317",
   "metadata": {},
   "source": [
    "## 1 metro"
   ]
  },
  {
   "cell_type": "code",
   "execution_count": 94,
   "id": "84888adb-4b54-42ea-98a9-45014fb54915",
   "metadata": {},
   "outputs": [
    {
     "name": "stdout",
     "output_type": "stream",
     "text": [
      "El error promedio de los periodos es: 97.9003003714449\n"
     ]
    }
   ],
   "source": [
    "#---300g---#\n",
    "\n",
    "exp_grandes_1m_300 = pd.read_csv('Datos/1m/300/TiemposGrandes1m300.csv', sep=\",\")\n",
    "teo_grandes_1m_300 = pd.read_csv('Datos/1m/300/T_teórico_1m_300.csv', sep=\",\")\n",
    "\n",
    "exp_grandes_1m_300['t'] = exp_grandes_1m_300['t'].astype(float, errors = 'raise')\n",
    "teo_grandes_1m_300['t'] = teo_grandes_1m_300['t'].astype(float, errors = 'raise')\n",
    "\n",
    "error300=(np.abs(exp_grandes_1m_300['t']-teo_grandes_1m_300['t']))/teo_grandes_1m_300['t'] *100\n",
    "\n",
    "promedio300=error300.mean()\n",
    "\n",
    "print(\"El error promedio de los periodos es:\" ,promedio300)\n"
   ]
  },
  {
   "cell_type": "code",
   "execution_count": 95,
   "id": "3042f72c-9040-4288-85e1-0acf65795744",
   "metadata": {},
   "outputs": [
    {
     "name": "stdout",
     "output_type": "stream",
     "text": [
      "El error promedio de los periodos es: 98.03370911771137\n"
     ]
    }
   ],
   "source": [
    "#---600g---#\n",
    "\n",
    "exp_grandes_1m_600 = pd.read_csv('Datos/1m/600/TiemposGrandes600.csv', sep=\",\")\n",
    "teo_grandes_1m_600 = pd.read_csv('Datos/1m/600/T_teórico_1m_600.csv', sep=\",\")\n",
    "\n",
    "exp_grandes_1m_600['t'] = exp_grandes_1m_600['t'].astype(float, errors = 'raise')\n",
    "teo_grandes_1m_600['t'] = teo_grandes_1m_600['t'].astype(float, errors = 'raise')\n",
    "\n",
    "error600=(np.abs(exp_grandes_1m_600['t']-teo_grandes_1m_600['t']))/teo_grandes_1m_600['t'] *100\n",
    "\n",
    "promedio600=error600.mean()\n",
    "\n",
    "print(\"El error promedio de los periodos es:\" ,promedio600)\n"
   ]
  },
  {
   "cell_type": "markdown",
   "id": "1f848de7-c8ca-481c-a240-0c7b1bfc2e52",
   "metadata": {},
   "source": [
    "## 2 metros"
   ]
  },
  {
   "cell_type": "code",
   "execution_count": 97,
   "id": "1070039a-ca57-4260-94df-064052be3a64",
   "metadata": {},
   "outputs": [
    {
     "name": "stdout",
     "output_type": "stream",
     "text": [
      "El error promedio de los periodos es: 97.61939326543771\n"
     ]
    }
   ],
   "source": [
    "#---300g---#\n",
    "\n",
    "exp_grandes_2m_300 = pd.read_csv('Datos/2m/300/TiemposGrandes2m300.csv', sep=\",\")\n",
    "teo_grandes_2m_300 = pd.read_csv('Datos/2m/300/T_teórico_2m_300.csv', sep=\",\")\n",
    "\n",
    "exp_grandes_2m_300['t'] = exp_grandes_2m_300['t'].astype(float, errors = 'raise')\n",
    "teo_grandes_2m_300['t'] = teo_grandes_2m_300['t'].astype(float, errors = 'raise')\n",
    "\n",
    "error300_2=(np.abs(exp_grandes_2m_300['t']-teo_grandes_2m_300['t']))/teo_grandes_2m_300['t'] *100\n",
    "\n",
    "promedio300_2=error300_2.mean()\n",
    "\n",
    "print(\"El error promedio de los periodos es:\" ,promedio300_2)"
   ]
  },
  {
   "cell_type": "code",
   "execution_count": 99,
   "id": "c9a6b924-16c0-4965-bdeb-265d5659a7e8",
   "metadata": {},
   "outputs": [
    {
     "name": "stdout",
     "output_type": "stream",
     "text": [
      "El error promedio de los periodos es: 97.59490240609179\n"
     ]
    }
   ],
   "source": [
    "#---600g---#\n",
    "\n",
    "exp_grandes_2m_600 = pd.read_csv('Datos/2m/600/TiemposGrandes2m600.csv', sep=\",\")\n",
    "teo_grandes_2m_600 = pd.read_csv('Datos/2m/600/T_teórico_2m_600.csv', sep=\",\")\n",
    "\n",
    "exp_grandes_2m_600['t'] = exp_grandes_2m_600['t'].astype(float, errors = 'raise')\n",
    "teo_grandes_2m_600['t'] = teo_grandes_2m_600['t'].astype(float, errors = 'raise')\n",
    "\n",
    "error600_2=(np.abs(exp_grandes_2m_600['t']-teo_grandes_2m_600['t']))/teo_grandes_2m_600['t'] *100\n",
    "\n",
    "promedio600_2=error600_2.mean()\n",
    "\n",
    "print(\"El error promedio de los periodos es:\" ,promedio600_2)"
   ]
  },
  {
   "cell_type": "code",
   "execution_count": null,
   "id": "4917e847-15b0-485a-8632-f825186d4b77",
   "metadata": {},
   "outputs": [],
   "source": []
  }
 ],
 "metadata": {
  "kernelspec": {
   "display_name": "Python 3",
   "language": "python",
   "name": "python3"
  },
  "language_info": {
   "codemirror_mode": {
    "name": "ipython",
    "version": 3
   },
   "file_extension": ".py",
   "mimetype": "text/x-python",
   "name": "python",
   "nbconvert_exporter": "python",
   "pygments_lexer": "ipython3",
   "version": "3.8.8"
  }
 },
 "nbformat": 4,
 "nbformat_minor": 5
}
